{
 "cells": [
  {
   "cell_type": "markdown",
   "metadata": {},
   "source": [
    "# 7 Simple Tricks to Write awesome Python Codes"
   ]
  },
  {
   "cell_type": "code",
   "execution_count": 2,
   "metadata": {},
   "outputs": [
    {
     "name": "stdout",
     "output_type": "stream",
     "text": [
      "0 Delhi\n",
      "1 Patna\n",
      "2 Bangalore\n",
      "3 chennai\n"
     ]
    }
   ],
   "source": [
    "cities = ['Delhi', 'Patna', 'Bangalore', 'chennai']\n",
    "\n",
    "# The bad/old way to write code\n",
    "i = 0\n",
    "for city in cities:\n",
    "    print(i, city)\n",
    "    i += 1"
   ]
  },
  {
   "cell_type": "code",
   "execution_count": 3,
   "metadata": {},
   "outputs": [
    {
     "name": "stdout",
     "output_type": "stream",
     "text": [
      "0 Delhi\n",
      "1 Patna\n",
      "2 Bangalore\n",
      "3 chennai\n"
     ]
    }
   ],
   "source": [
    "# the good way\n",
    "for i, city in enumerate(cities):\n",
    "    print(i, city)"
   ]
  },
  {
   "cell_type": "code",
   "execution_count": 4,
   "metadata": {},
   "outputs": [
    {
     "name": "stdout",
     "output_type": "stream",
     "text": [
      "1 2\n",
      "2 4\n",
      "3 6\n"
     ]
    }
   ],
   "source": [
    "x_list = [1,2,3]\n",
    "y_list = [2,4,6]\n",
    "\n",
    "#the bad way\n",
    "for i in range(len(x_list)):\n",
    "    x = x_list[i]\n",
    "    y = y_list[i]\n",
    "    print(x,y)"
   ]
  },
  {
   "cell_type": "code",
   "execution_count": 5,
   "metadata": {},
   "outputs": [
    {
     "name": "stdout",
     "output_type": "stream",
     "text": [
      "1 2\n",
      "2 4\n",
      "3 6\n"
     ]
    }
   ],
   "source": [
    "# the good way\n",
    "for x, y in zip(x_list, y_list):\n",
    "    print(x, y)"
   ]
  },
  {
   "cell_type": "code",
   "execution_count": 6,
   "metadata": {},
   "outputs": [
    {
     "name": "stdout",
     "output_type": "stream",
     "text": [
      "Before: x = 10, y = -10\n",
      "After: x = -10, y = 10\n"
     ]
    }
   ],
   "source": [
    "x = 10\n",
    "y = -10\n",
    "print('Before: x = %d, y = %d' % (x,y))\n",
    "\n",
    "# The bad way\n",
    "tmp = y\n",
    "y = x\n",
    "x = tmp\n",
    "print('After: x = %d, y = %d' %(x,y))"
   ]
  },
  {
   "cell_type": "code",
   "execution_count": 7,
   "metadata": {},
   "outputs": [
    {
     "name": "stdout",
     "output_type": "stream",
     "text": [
      "Before: x = 10, y = -10\n",
      "After: x = -10, y = 10\n"
     ]
    }
   ],
   "source": [
    "x,y = 10, -10\n",
    "print('Before: x = %d, y = %d' % (x,y))\n",
    "# The good way\n",
    "x, y = y, x\n",
    "print('After: x = %d, y = %d' %(x,y))"
   ]
  },
  {
   "cell_type": "code",
   "execution_count": 8,
   "metadata": {},
   "outputs": [],
   "source": [
    "# dictionary\n",
    "\n",
    "ages = {\n",
    "    'Mary'  : 31,\n",
    "    'Jonathan': 28,\n",
    "    #'Dick': 51\n",
    "}"
   ]
  },
  {
   "cell_type": "code",
   "execution_count": 9,
   "metadata": {},
   "outputs": [
    {
     "name": "stdout",
     "output_type": "stream",
     "text": [
      "Dick is Unknown years old\n"
     ]
    }
   ],
   "source": [
    "# the bad way\n",
    "if 'Dick' in ages:\n",
    "    age = ages['Dick']\n",
    "else:\n",
    "    age = 'Unknown'\n",
    "print('Dick is %s years old' %age)"
   ]
  },
  {
   "cell_type": "code",
   "execution_count": 10,
   "metadata": {},
   "outputs": [
    {
     "name": "stdout",
     "output_type": "stream",
     "text": [
      "Dick is Unknown years old\n"
     ]
    }
   ],
   "source": [
    "# the good way\n",
    "\n",
    "age = ages.get('Dick','Unknown')\n",
    "print('Dick is %s years old' %age)"
   ]
  },
  {
   "cell_type": "code",
   "execution_count": 11,
   "metadata": {},
   "outputs": [],
   "source": [
    "needle = 'd'\n",
    "haystack = ['a','b','c']"
   ]
  },
  {
   "cell_type": "code",
   "execution_count": 12,
   "metadata": {},
   "outputs": [
    {
     "name": "stdout",
     "output_type": "stream",
     "text": [
      "Not found\n"
     ]
    }
   ],
   "source": [
    "# the bad way\n",
    "found = False\n",
    "for letter in haystack:\n",
    "    if needle == letter:\n",
    "        print('Found!')\n",
    "        found = True\n",
    "        break\n",
    "if not found:\n",
    "    print('Not found')"
   ]
  },
  {
   "cell_type": "code",
   "execution_count": 13,
   "metadata": {},
   "outputs": [
    {
     "name": "stdout",
     "output_type": "stream",
     "text": [
      "Not found\n"
     ]
    }
   ],
   "source": [
    "# the good way\n",
    "for letter in haystack:\n",
    "    if needle == letter:\n",
    "        print('Found!')\n",
    "        break\n",
    "else:  # if no break occured\n",
    "    print('Not found')"
   ]
  },
  {
   "cell_type": "code",
   "execution_count": 14,
   "metadata": {},
   "outputs": [
    {
     "name": "stdout",
     "output_type": "stream",
     "text": [
      "Take a look at me, everything I own's iced out\n",
      "Pimp baby, you can see my wrists with the lights\n",
      "This is how I do it, mad bitches and clothes\n",
      "Godfather baby, only to my rougues\n"
     ]
    }
   ],
   "source": [
    "# the bad way\n",
    "f = open('pimpin-aint-easy.txt')\n",
    "text = f.read()\n",
    "for line in text.split('\\n'):\n",
    "    print(line)\n",
    "f.close()"
   ]
  },
  {
   "cell_type": "code",
   "execution_count": 15,
   "metadata": {},
   "outputs": [
    {
     "name": "stdout",
     "output_type": "stream",
     "text": [
      "Take a look at me, everything I own's iced out\n",
      "\n",
      "Pimp baby, you can see my wrists with the lights\n",
      "\n",
      "This is how I do it, mad bitches and clothes\n",
      "\n",
      "Godfather baby, only to my rougues\n"
     ]
    }
   ],
   "source": [
    "# the good way\n",
    "f = open('pimpin-aint-easy.txt')\n",
    "for line in f:\n",
    "    print(line)\n",
    "f.close()"
   ]
  },
  {
   "cell_type": "code",
   "execution_count": 16,
   "metadata": {},
   "outputs": [
    {
     "name": "stdout",
     "output_type": "stream",
     "text": [
      "Take a look at me, everything I own's iced out\n",
      "\n",
      "Pimp baby, you can see my wrists with the lights\n",
      "\n",
      "This is how I do it, mad bitches and clothes\n",
      "\n",
      "Godfather baby, only to my rougues\n"
     ]
    }
   ],
   "source": [
    "# the better way\n",
    "with open('pimpin-aint-easy.txt') as f:\n",
    "    for line in f:\n",
    "        print(line)"
   ]
  },
  {
   "cell_type": "code",
   "execution_count": 17,
   "metadata": {},
   "outputs": [
    {
     "name": "stdout",
     "output_type": "stream",
     "text": [
      "Converting!\n",
      "1\n",
      "Done\n"
     ]
    }
   ],
   "source": [
    "print('Converting!')\n",
    "print(int('1'))\n",
    "print('Done')"
   ]
  },
  {
   "cell_type": "code",
   "execution_count": null,
   "metadata": {},
   "outputs": [],
   "source": []
  },
  {
   "cell_type": "code",
   "execution_count": 27,
   "metadata": {},
   "outputs": [
    {
     "name": "stdout",
     "output_type": "stream",
     "text": [
      "Converting!\n",
      "Conversion failed!\n",
      "Done\n"
     ]
    }
   ],
   "source": [
    "print('Converting!')\n",
    "try:\n",
    "    print(int('x'))\n",
    "except:\n",
    "    print('Conversion failed!')\n",
    "print('Done')"
   ]
  },
  {
   "cell_type": "code",
   "execution_count": 28,
   "metadata": {},
   "outputs": [
    {
     "name": "stdout",
     "output_type": "stream",
     "text": [
      "Converting!\n",
      "Conversion failed!\n",
      "Done\n"
     ]
    }
   ],
   "source": [
    "print('Converting!')\n",
    "try:\n",
    "    print(int('x'))\n",
    "except:\n",
    "    print('Conversion failed!')\n",
    "else:  #if no-except\n",
    "    print('Conversion successful!')\n",
    "print('Done')"
   ]
  },
  {
   "cell_type": "code",
   "execution_count": 29,
   "metadata": {},
   "outputs": [
    {
     "name": "stdout",
     "output_type": "stream",
     "text": [
      "Converting!\n",
      "1\n",
      "Conversion successful!\n",
      "Done\n"
     ]
    }
   ],
   "source": [
    "print('Converting!')\n",
    "try:\n",
    "    print(int('1')) # or 'x'\n",
    "except:\n",
    "    print('Conversion failed!')\n",
    "else:  #if no-except\n",
    "    print('Conversion successful!')\n",
    "finally:  # Always\n",
    "    print('Done')"
   ]
  },
  {
   "cell_type": "markdown",
   "metadata": {},
   "source": [
    "# 7 More Tricks to Write Better Python Code"
   ]
  },
  {
   "cell_type": "code",
   "execution_count": 30,
   "metadata": {},
   "outputs": [],
   "source": [
    "# Goal: Check if my version is the latest\n",
    "latest_python = 3\n",
    "my_python = 1"
   ]
  },
  {
   "cell_type": "code",
   "execution_count": 31,
   "metadata": {},
   "outputs": [
    {
     "name": "stdout",
     "output_type": "stream",
     "text": [
      "Update check: Update available\n"
     ]
    }
   ],
   "source": [
    "# Bad way\n",
    "if latest_python > my_python:\n",
    "    msg = 'Update available'\n",
    "else:\n",
    "    msg = 'Up to date'    \n",
    "print('Update check: %s' %msg)\n"
   ]
  },
  {
   "cell_type": "code",
   "execution_count": 32,
   "metadata": {},
   "outputs": [
    {
     "name": "stdout",
     "output_type": "stream",
     "text": [
      "Update check: Update available\n"
     ]
    }
   ],
   "source": [
    "# Good way\n",
    "#if latest_python > my_python:\n",
    " #   msg = 'Update available'\n",
    "#else:\n",
    " #   msg = 'Up to date'  \n",
    "msg = 'Update available' if latest_python  > my_python else 'Up to date'\n",
    "print('Update check: %s' %msg)"
   ]
  },
  {
   "cell_type": "code",
   "execution_count": 33,
   "metadata": {},
   "outputs": [
    {
     "name": "stdout",
     "output_type": "stream",
     "text": [
      "Update check: Up to date\n"
     ]
    }
   ],
   "source": [
    "latest_python = (3, 5, 2)\n",
    "my_python = (3, 5, 2)\n",
    "msg = \"Up to date\"\n",
    "for i in range(len(latest_python)):\n",
    "    if latest_python[i] > my_python[i]:\n",
    "        msg = 'Update available'\n",
    "        break\n",
    "    \n",
    "print('Update check: % s' %msg)"
   ]
  },
  {
   "cell_type": "code",
   "execution_count": 34,
   "metadata": {},
   "outputs": [
    {
     "name": "stdout",
     "output_type": "stream",
     "text": [
      "Update check: Up to date\n"
     ]
    }
   ],
   "source": [
    "latest_python = (3, 5, 2)\n",
    "my_python = (3, 5, 2)\n",
    "\n",
    "# Slightly better way\n",
    "msg = 'Up to date'\n",
    "for latest_subversion, my_subversion in zip(latest_python, my_python):\n",
    "    if latest_subversion > my_subversion:\n",
    "        msg = 'Update available'\n",
    "        break\n",
    "else:\n",
    "    msg = 'Up to date'\n",
    "\n",
    "msg = 'Update available' if latest_python > my_python else 'Up to date'\n",
    "\n",
    "print('Update check: %s' %msg)"
   ]
  },
  {
   "cell_type": "code",
   "execution_count": 35,
   "metadata": {},
   "outputs": [],
   "source": [
    "# Goat: Get the smallest and larget city"
   ]
  },
  {
   "cell_type": "code",
   "execution_count": 36,
   "metadata": {},
   "outputs": [],
   "source": [
    "# Ordered by population\n",
    "cities = ['Groningen', 'Marseille', 'Buenos Aires', 'Mumbai']"
   ]
  },
  {
   "cell_type": "code",
   "execution_count": 37,
   "metadata": {},
   "outputs": [
    {
     "name": "stdout",
     "output_type": "stream",
     "text": [
      "smallest: Groningen\n",
      "largest: Mumbai\n"
     ]
    }
   ],
   "source": [
    "# Bad way (assumes four list elements)\n",
    "smallest, _, _, largest = cities\n",
    "\n",
    "# slightest better way\n",
    "smallest = cities[0]\n",
    "largest = cities[-1]\n",
    "\n",
    "print('smallest: %s' %smallest)\n",
    "print('largest: %s' %largest)"
   ]
  },
  {
   "cell_type": "code",
   "execution_count": 38,
   "metadata": {},
   "outputs": [
    {
     "name": "stdout",
     "output_type": "stream",
     "text": [
      "smallest: Groningen\n",
      "largest: Mumbai\n"
     ]
    }
   ],
   "source": [
    "# Good way\n",
    "smallest, *rest, largest = cities\n",
    "\n",
    "print('smallest: %s' %smallest)\n",
    "print('largest: %s' %largest)"
   ]
  },
  {
   "cell_type": "code",
   "execution_count": 39,
   "metadata": {},
   "outputs": [
    {
     "name": "stdout",
     "output_type": "stream",
     "text": [
      "{'Groningen': 197823, 'Marseille': 852516, 'Buenos Aires': 2890151, 'Mumbai': 12442373}\n"
     ]
    }
   ],
   "source": [
    "# Goal: Create a dict where capitalized city names are keys and populations are values\n",
    "\n",
    "import string\n",
    "\n",
    "cities = ['groningen', 'marseille', 'buenos aires', 'mumbai']\n",
    "populations = [197823, 852516, 2890151, 12442373]\n",
    "\n",
    "# bad way\n",
    "d = {}\n",
    "for city, population in zip(cities, populations):\n",
    "    d[string.capwords(city)] = population\n",
    "print(d)\n"
   ]
  },
  {
   "cell_type": "code",
   "execution_count": 40,
   "metadata": {},
   "outputs": [
    {
     "data": {
      "text/plain": [
       "{'groningen': 197823,\n",
       " 'marseille': 852516,\n",
       " 'buenos aires': 2890151,\n",
       " 'mumbai': 12442373}"
      ]
     },
     "execution_count": 40,
     "metadata": {},
     "output_type": "execute_result"
    }
   ],
   "source": [
    "dict(zip(cities, populations))"
   ]
  },
  {
   "cell_type": "code",
   "execution_count": 41,
   "metadata": {},
   "outputs": [
    {
     "name": "stdout",
     "output_type": "stream",
     "text": [
      "{'Groningen': 197823, 'Marseille': 852516, 'Buenos Aires': 2890151, 'Mumbai': 12442373}\n"
     ]
    }
   ],
   "source": [
    "# good way\n",
    "import string, collections\n",
    "d = {string.capwords(city): population\\\n",
    "     for city, population in zip(cities, populations)}\n",
    "print(d)"
   ]
  },
  {
   "cell_type": "code",
   "execution_count": 42,
   "metadata": {},
   "outputs": [
    {
     "name": "stdout",
     "output_type": "stream",
     "text": [
      "OrderedDict([('Groningen', [197823, 852516, 2890151, 12442373]), ('Marseille', [197823, 852516, 2890151, 12442373]), ('Buenos Aires', [197823, 852516, 2890151, 12442373]), ('Mumbai', [197823, 852516, 2890151, 12442373])])\n"
     ]
    }
   ],
   "source": [
    "# Ordered city\n",
    "# good way\n",
    "d = collections.OrderedDict()\n",
    "for city, population in zip(cities, populations):\n",
    "    d[string.capwords(city)] = populations\n",
    "print(d)"
   ]
  },
  {
   "cell_type": "code",
   "execution_count": 43,
   "metadata": {},
   "outputs": [],
   "source": [
    "# Goal: Create a dict where butterfly-species names are keys and the observation counts are values.\n",
    "# Next, print out the number of times that a not-observed species (Palmfly)was observed (0times)!\n",
    "\n",
    "import collections\n",
    "\n",
    "butterfly_observations = {\n",
    "    'Brown Clipper'    :2,\n",
    "    'Common Mormon'    :11,\n",
    "    'Giant atlas Moth' :1,\n",
    "    'Blue Peacock'     :3\n",
    "}"
   ]
  },
  {
   "cell_type": "code",
   "execution_count": 44,
   "metadata": {},
   "outputs": [
    {
     "name": "stdout",
     "output_type": "stream",
     "text": [
      "Palmfly observations: 0\n"
     ]
    }
   ],
   "source": [
    "# bad way\n",
    "if 'Palmfly' in butterfly_observations:\n",
    "    palmfly_observations = butterfly_observations['Palmfly']\n",
    "else:\n",
    "    palmfly_observations = 0\n",
    "\n",
    "print('Palmfly observations: %d' % palmfly_observations)"
   ]
  },
  {
   "cell_type": "code",
   "execution_count": 45,
   "metadata": {},
   "outputs": [
    {
     "ename": "SyntaxError",
     "evalue": "invalid syntax (<ipython-input-45-b2c4282850ed>, line 2)",
     "output_type": "error",
     "traceback": [
      "\u001b[1;36m  File \u001b[1;32m\"<ipython-input-45-b2c4282850ed>\"\u001b[1;36m, line \u001b[1;32m2\u001b[0m\n\u001b[1;33m    palmfly_observations = butterfly_observations get('Palmfly', 0)\u001b[0m\n\u001b[1;37m                                                    ^\u001b[0m\n\u001b[1;31mSyntaxError\u001b[0m\u001b[1;31m:\u001b[0m invalid syntax\n"
     ]
    }
   ],
   "source": [
    "# Slightly better way\n",
    "palmfly_observations = butterfly_observations get('Palmfly', 0)\n",
    "\n",
    "print('Palmfly observations: %d' % palmfly_observations)"
   ]
  },
  {
   "cell_type": "code",
   "execution_count": 46,
   "metadata": {},
   "outputs": [
    {
     "name": "stdout",
     "output_type": "stream",
     "text": [
      "Palmfly observations: 0\n"
     ]
    }
   ],
   "source": [
    "# Good way\n",
    "d = collections.defaultdict(lambda: 0)\n",
    "\n",
    "print('Palmfly observations: %d' % palmfly_observations)"
   ]
  },
  {
   "cell_type": "code",
   "execution_count": 47,
   "metadata": {},
   "outputs": [
    {
     "name": "stdout",
     "output_type": "stream",
     "text": [
      "Palmfly observations: 0\n"
     ]
    }
   ],
   "source": [
    "def dummy():\n",
    "    return 0\n",
    "d = collections.defaultdict(lambda: 0)\n",
    "d.update(butterfly_observations)\n",
    "palmfly_observations = d['Palmfly']\n",
    "\n",
    "print('Palmfly observations: %d' % palmfly_observations)"
   ]
  },
  {
   "cell_type": "code",
   "execution_count": null,
   "metadata": {},
   "outputs": [],
   "source": []
  }
 ],
 "metadata": {
  "kernelspec": {
   "display_name": "Python 3",
   "language": "python",
   "name": "python3"
  },
  "language_info": {
   "codemirror_mode": {
    "name": "ipython",
    "version": 3
   },
   "file_extension": ".py",
   "mimetype": "text/x-python",
   "name": "python",
   "nbconvert_exporter": "python",
   "pygments_lexer": "ipython3",
   "version": "3.6.8"
  }
 },
 "nbformat": 4,
 "nbformat_minor": 2
}
