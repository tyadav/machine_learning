{
 "cells": [
  {
   "cell_type": "code",
   "execution_count": 2,
   "metadata": {},
   "outputs": [],
   "source": [
    "# Set an alarm\n",
    "\n",
    "import sched\n",
    "import time\n",
    "import winsound as ws\n",
    "\n",
    "def set_alarm(alarm_time, wav_file, message):\n",
    "    s = sched.scheduler(time.time, time.sleep)\n",
    "    s.enterabs(alarm_time, 1, print, argument=(message,))\n",
    "    s.enterabs(alarm_time, 1, ws.PlaySound, argument=(wav_file, ws.SND_FILENAME))\n",
    "    print('Alarm set for', time.asctime(time.localtime(alarm_time)))\n",
    "    s.run()"
   ]
  },
  {
   "cell_type": "code",
   "execution_count": 4,
   "metadata": {},
   "outputs": [],
   "source": [
    "# to run on command prompt\n",
    "#import time\n",
    "#from alarm import set_alarm\n",
    "#set_alarm(time.time()+1, 'alam.wav', 'wake up!')"
   ]
  },
  {
   "cell_type": "code",
   "execution_count": 4,
   "metadata": {},
   "outputs": [],
   "source": [
    "# send an email\n",
    "\n",
    "import smtplib\n",
    "\n",
    "SENDER_EMAIL = 'tej.yadav2307@gmail.com'\n",
    "SENDER_PASSWORD = 'ya@#$$%%^'\n",
    "\n",
    "def send_email(receiver_email, subject, body):\n",
    "    message = 'Subject: {}\\n\\n{}'.format(subject, body)\n",
    "    with smtplib.SMTP_SSL('smtp.gmail.com',465) as server:\n",
    "        server.login(SENDER_EMAIL, SENDER_PASSWORD)\n",
    "        server.sendmail(SENDER_EMAIL, receiver_email, message)"
   ]
  },
  {
   "cell_type": "code",
   "execution_count": 5,
   "metadata": {},
   "outputs": [],
   "source": [
    "# on cmd \n",
    "# from send_email import send_email\n",
    "# send_email('tej.yadav2307@gmail.com', 'Notification', 'Everything is Awesome!')"
   ]
  },
  {
   "cell_type": "code",
   "execution_count": 9,
   "metadata": {},
   "outputs": [],
   "source": [
    "# simulate dice\n",
    "\n",
    "from random import randint\n",
    "from collections import Counter\n",
    "\n",
    "def roll_dice(*dice, num_trials=1_000_000):\n",
    "    counts = Counter()\n",
    "    for roll in range(num_trials):\n",
    "        counts[sum((randint(1, sides) for sides in dice))] += 1\n",
    "        \n",
    "    print('\\nOUTCOME\\tPROBABILITY')\n",
    "    for outcome in range(len(dice), sum(dice)+1):\n",
    "        print('{}\\t{:0.2f}%'.format(outcome, counts[outcome]*100/num_trials))"
   ]
  },
  {
   "cell_type": "code",
   "execution_count": 12,
   "metadata": {},
   "outputs": [],
   "source": [
    "#roll_dice(4,6,6)\n",
    "#roll_dice(4,6,6,20)"
   ]
  },
  {
   "cell_type": "code",
   "execution_count": 13,
   "metadata": {},
   "outputs": [],
   "source": [
    "# Count unique words\n",
    "\n",
    "import re\n",
    "from collections import Counter\n",
    "\n",
    "def count_words(path):\n",
    "    with open(path, encoding='utf-8') as file:\n",
    "        all_words = re.findall(r\"[0-9a-zA-Z-']+\", file.read())\n",
    "        all_words = [word.upper() for word in all_words]\n",
    "        print('\\nTotal Words:', len(all_words))\n",
    "        \n",
    "        word_counts = Counter()\n",
    "        for word in all_words:\n",
    "            word_counts[word] += 1\n",
    "            \n",
    "        print('\\nTop 20 Words:')\n",
    "        for word in word_counts.most_common(20):\n",
    "            print(word[0], '\\t', word[1])        "
   ]
  },
  {
   "cell_type": "code",
   "execution_count": 14,
   "metadata": {},
   "outputs": [],
   "source": [
    "# from count_words import count_words\n",
    "# count_words('shakespeare.txt')"
   ]
  },
  {
   "cell_type": "code",
   "execution_count": 15,
   "metadata": {},
   "outputs": [],
   "source": [
    "# Merge csv files\n",
    "\n",
    "import csv\n",
    "\n",
    "def merge_csv(csv_list, output_path):\n",
    "    # built list with all fieldnames\n",
    "    fieldnames = list()\n",
    "    for file in csv_list:\n",
    "        with open(file, 'r') as input_csv:\n",
    "            fn = csv.DictReader(input_csv).filenames\n",
    "            fieldnames.extend(x for x in fn if x not in fieldnames)\n",
    "            \n",
    "    # write data to output file based on fieldnames\n",
    "    with open (output_path, 'w', newline = '') as output_csv:\n",
    "        writer = csv.DictWriter(output_csv, fieldnames = fieldnames)\n",
    "        writer = writeheader()\n",
    "        for file in csv_list:\n",
    "            with open(file, 'r') as input_csv:\n",
    "                reader = csv.DictReader(input_csv)\n",
    "                for row in reader:\n",
    "                    writer.writerow(row)"
   ]
  },
  {
   "cell_type": "code",
   "execution_count": 16,
   "metadata": {},
   "outputs": [],
   "source": [
    "# from merge_csv import merge_csv\n",
    "# merge_csv(['class1.csv', 'class2.csv'], 'all_students.csv')"
   ]
  },
  {
   "cell_type": "code",
   "execution_count": 19,
   "metadata": {},
   "outputs": [],
   "source": [
    "# Build a ZIP archive\n",
    "\n",
    "import os\n",
    "from zipfile import ZipFile\n",
    "\n",
    "def zip_all(search_dir, extension_list, output_path):\n",
    "    with ZipFile(output_path, 'w') as output_zip:\n",
    "        for root, dirs, files in os.walk(serach_dir):\n",
    "            rel_path = os.path.relpath(root, serach_dir)\n",
    "            for file in files:\n",
    "                name, ext = os.path.splittext(file)\n",
    "                if ext.lower() in extension_list:\n",
    "                    output_zip.write(os.path.join(root, file),\n",
    "                                    arcname = os.path.join(rel_path, file))"
   ]
  },
  {
   "cell_type": "code",
   "execution_count": 20,
   "metadata": {},
   "outputs": [],
   "source": [
    "# from zip_all import zip_all\n",
    "# zip_all('C:\\\\Users\\\\TejYadav\\\\Desktop\\\\My_stuff, ['.jpg', '.txt']')"
   ]
  },
  {
   "cell_type": "code",
   "execution_count": null,
   "metadata": {},
   "outputs": [],
   "source": []
  }
 ],
 "metadata": {
  "kernelspec": {
   "display_name": "Python 3",
   "language": "python",
   "name": "python3"
  },
  "language_info": {
   "codemirror_mode": {
    "name": "ipython",
    "version": 3
   },
   "file_extension": ".py",
   "mimetype": "text/x-python",
   "name": "python",
   "nbconvert_exporter": "python",
   "pygments_lexer": "ipython3",
   "version": "3.7.6"
  }
 },
 "nbformat": 4,
 "nbformat_minor": 4
}
